{
 "cells": [
  {
   "cell_type": "code",
   "execution_count": 1,
   "id": "20dc742c",
   "metadata": {},
   "outputs": [],
   "source": [
    "import pandas as pd\n",
    "from sklearn.cluster import KMeans\n",
    "import matplotlib.pyplot as plt\n",
    "from sklearn.preprocessing import scale\n",
    "from numpy import random, float, array\n",
    "import numpy as np\n",
    "import seaborn as sns"
   ]
  },
  {
   "cell_type": "code",
   "execution_count": 5,
   "id": "18dc8e9e",
   "metadata": {},
   "outputs": [],
   "source": [
    "crime = pd.read_csv(\"C:/DS/Clustring/crime_data.csv\")"
   ]
  },
  {
   "cell_type": "code",
   "execution_count": 6,
   "id": "f6d28a0d",
   "metadata": {},
   "outputs": [
    {
     "data": {
      "text/html": [
       "<div>\n",
       "<style scoped>\n",
       "    .dataframe tbody tr th:only-of-type {\n",
       "        vertical-align: middle;\n",
       "    }\n",
       "\n",
       "    .dataframe tbody tr th {\n",
       "        vertical-align: top;\n",
       "    }\n",
       "\n",
       "    .dataframe thead th {\n",
       "        text-align: right;\n",
       "    }\n",
       "</style>\n",
       "<table border=\"1\" class=\"dataframe\">\n",
       "  <thead>\n",
       "    <tr style=\"text-align: right;\">\n",
       "      <th></th>\n",
       "      <th>Unnamed: 0</th>\n",
       "      <th>Murder</th>\n",
       "      <th>Assault</th>\n",
       "      <th>UrbanPop</th>\n",
       "      <th>Rape</th>\n",
       "    </tr>\n",
       "  </thead>\n",
       "  <tbody>\n",
       "    <tr>\n",
       "      <th>0</th>\n",
       "      <td>Alabama</td>\n",
       "      <td>13.2</td>\n",
       "      <td>236</td>\n",
       "      <td>58</td>\n",
       "      <td>21.2</td>\n",
       "    </tr>\n",
       "    <tr>\n",
       "      <th>1</th>\n",
       "      <td>Alaska</td>\n",
       "      <td>10.0</td>\n",
       "      <td>263</td>\n",
       "      <td>48</td>\n",
       "      <td>44.5</td>\n",
       "    </tr>\n",
       "    <tr>\n",
       "      <th>2</th>\n",
       "      <td>Arizona</td>\n",
       "      <td>8.1</td>\n",
       "      <td>294</td>\n",
       "      <td>80</td>\n",
       "      <td>31.0</td>\n",
       "    </tr>\n",
       "    <tr>\n",
       "      <th>3</th>\n",
       "      <td>Arkansas</td>\n",
       "      <td>8.8</td>\n",
       "      <td>190</td>\n",
       "      <td>50</td>\n",
       "      <td>19.5</td>\n",
       "    </tr>\n",
       "    <tr>\n",
       "      <th>4</th>\n",
       "      <td>California</td>\n",
       "      <td>9.0</td>\n",
       "      <td>276</td>\n",
       "      <td>91</td>\n",
       "      <td>40.6</td>\n",
       "    </tr>\n",
       "  </tbody>\n",
       "</table>\n",
       "</div>"
      ],
      "text/plain": [
       "   Unnamed: 0  Murder  Assault  UrbanPop  Rape\n",
       "0     Alabama    13.2      236        58  21.2\n",
       "1      Alaska    10.0      263        48  44.5\n",
       "2     Arizona     8.1      294        80  31.0\n",
       "3    Arkansas     8.8      190        50  19.5\n",
       "4  California     9.0      276        91  40.6"
      ]
     },
     "execution_count": 6,
     "metadata": {},
     "output_type": "execute_result"
    }
   ],
   "source": [
    "crime.head()"
   ]
  },
  {
   "cell_type": "code",
   "execution_count": 7,
   "id": "d15aaecd",
   "metadata": {},
   "outputs": [
    {
     "data": {
      "text/plain": [
       "(50, 5)"
      ]
     },
     "execution_count": 7,
     "metadata": {},
     "output_type": "execute_result"
    }
   ],
   "source": [
    "crime.shape"
   ]
  },
  {
   "cell_type": "code",
   "execution_count": 8,
   "id": "75355338",
   "metadata": {},
   "outputs": [],
   "source": [
    "def norm_func(i):\n",
    "    x = (i-i.min())/(i.max()-i.min())\n",
    "    return (x)"
   ]
  },
  {
   "cell_type": "code",
   "execution_count": 9,
   "id": "a5c46a4b",
   "metadata": {},
   "outputs": [
    {
     "data": {
      "text/html": [
       "<div>\n",
       "<style scoped>\n",
       "    .dataframe tbody tr th:only-of-type {\n",
       "        vertical-align: middle;\n",
       "    }\n",
       "\n",
       "    .dataframe tbody tr th {\n",
       "        vertical-align: top;\n",
       "    }\n",
       "\n",
       "    .dataframe thead th {\n",
       "        text-align: right;\n",
       "    }\n",
       "</style>\n",
       "<table border=\"1\" class=\"dataframe\">\n",
       "  <thead>\n",
       "    <tr style=\"text-align: right;\">\n",
       "      <th></th>\n",
       "      <th>Murder</th>\n",
       "      <th>Assault</th>\n",
       "      <th>UrbanPop</th>\n",
       "      <th>Rape</th>\n",
       "    </tr>\n",
       "  </thead>\n",
       "  <tbody>\n",
       "    <tr>\n",
       "      <th>count</th>\n",
       "      <td>50.000000</td>\n",
       "      <td>50.000000</td>\n",
       "      <td>50.000000</td>\n",
       "      <td>50.000000</td>\n",
       "    </tr>\n",
       "    <tr>\n",
       "      <th>mean</th>\n",
       "      <td>0.420964</td>\n",
       "      <td>0.430685</td>\n",
       "      <td>0.568475</td>\n",
       "      <td>0.360000</td>\n",
       "    </tr>\n",
       "    <tr>\n",
       "      <th>std</th>\n",
       "      <td>0.262380</td>\n",
       "      <td>0.285403</td>\n",
       "      <td>0.245335</td>\n",
       "      <td>0.242025</td>\n",
       "    </tr>\n",
       "    <tr>\n",
       "      <th>min</th>\n",
       "      <td>0.000000</td>\n",
       "      <td>0.000000</td>\n",
       "      <td>0.000000</td>\n",
       "      <td>0.000000</td>\n",
       "    </tr>\n",
       "    <tr>\n",
       "      <th>25%</th>\n",
       "      <td>0.197289</td>\n",
       "      <td>0.219178</td>\n",
       "      <td>0.381356</td>\n",
       "      <td>0.200904</td>\n",
       "    </tr>\n",
       "    <tr>\n",
       "      <th>50%</th>\n",
       "      <td>0.388554</td>\n",
       "      <td>0.390411</td>\n",
       "      <td>0.576271</td>\n",
       "      <td>0.330749</td>\n",
       "    </tr>\n",
       "    <tr>\n",
       "      <th>75%</th>\n",
       "      <td>0.629518</td>\n",
       "      <td>0.698630</td>\n",
       "      <td>0.775424</td>\n",
       "      <td>0.487726</td>\n",
       "    </tr>\n",
       "    <tr>\n",
       "      <th>max</th>\n",
       "      <td>1.000000</td>\n",
       "      <td>1.000000</td>\n",
       "      <td>1.000000</td>\n",
       "      <td>1.000000</td>\n",
       "    </tr>\n",
       "  </tbody>\n",
       "</table>\n",
       "</div>"
      ],
      "text/plain": [
       "          Murder    Assault   UrbanPop       Rape\n",
       "count  50.000000  50.000000  50.000000  50.000000\n",
       "mean    0.420964   0.430685   0.568475   0.360000\n",
       "std     0.262380   0.285403   0.245335   0.242025\n",
       "min     0.000000   0.000000   0.000000   0.000000\n",
       "25%     0.197289   0.219178   0.381356   0.200904\n",
       "50%     0.388554   0.390411   0.576271   0.330749\n",
       "75%     0.629518   0.698630   0.775424   0.487726\n",
       "max     1.000000   1.000000   1.000000   1.000000"
      ]
     },
     "execution_count": 9,
     "metadata": {},
     "output_type": "execute_result"
    }
   ],
   "source": [
    "df_norm = norm_func(crime.iloc[:,1:])\n",
    "df_norm.describe()"
   ]
  },
  {
   "cell_type": "code",
   "execution_count": 19,
   "id": "8e043181",
   "metadata": {},
   "outputs": [
    {
     "data": {
      "text/html": [
       "<div>\n",
       "<style scoped>\n",
       "    .dataframe tbody tr th:only-of-type {\n",
       "        vertical-align: middle;\n",
       "    }\n",
       "\n",
       "    .dataframe tbody tr th {\n",
       "        vertical-align: top;\n",
       "    }\n",
       "\n",
       "    .dataframe thead th {\n",
       "        text-align: right;\n",
       "    }\n",
       "</style>\n",
       "<table border=\"1\" class=\"dataframe\">\n",
       "  <thead>\n",
       "    <tr style=\"text-align: right;\">\n",
       "      <th></th>\n",
       "      <th>Murder</th>\n",
       "      <th>Assault</th>\n",
       "      <th>UrbanPop</th>\n",
       "      <th>Rape</th>\n",
       "    </tr>\n",
       "  </thead>\n",
       "  <tbody>\n",
       "    <tr>\n",
       "      <th>count</th>\n",
       "      <td>50.000000</td>\n",
       "      <td>50.000000</td>\n",
       "      <td>50.000000</td>\n",
       "      <td>50.000000</td>\n",
       "    </tr>\n",
       "    <tr>\n",
       "      <th>mean</th>\n",
       "      <td>0.420964</td>\n",
       "      <td>0.430685</td>\n",
       "      <td>0.568475</td>\n",
       "      <td>0.360000</td>\n",
       "    </tr>\n",
       "    <tr>\n",
       "      <th>std</th>\n",
       "      <td>0.262380</td>\n",
       "      <td>0.285403</td>\n",
       "      <td>0.245335</td>\n",
       "      <td>0.242025</td>\n",
       "    </tr>\n",
       "    <tr>\n",
       "      <th>min</th>\n",
       "      <td>0.000000</td>\n",
       "      <td>0.000000</td>\n",
       "      <td>0.000000</td>\n",
       "      <td>0.000000</td>\n",
       "    </tr>\n",
       "    <tr>\n",
       "      <th>25%</th>\n",
       "      <td>0.197289</td>\n",
       "      <td>0.219178</td>\n",
       "      <td>0.381356</td>\n",
       "      <td>0.200904</td>\n",
       "    </tr>\n",
       "    <tr>\n",
       "      <th>50%</th>\n",
       "      <td>0.388554</td>\n",
       "      <td>0.390411</td>\n",
       "      <td>0.576271</td>\n",
       "      <td>0.330749</td>\n",
       "    </tr>\n",
       "    <tr>\n",
       "      <th>75%</th>\n",
       "      <td>0.629518</td>\n",
       "      <td>0.698630</td>\n",
       "      <td>0.775424</td>\n",
       "      <td>0.487726</td>\n",
       "    </tr>\n",
       "    <tr>\n",
       "      <th>max</th>\n",
       "      <td>1.000000</td>\n",
       "      <td>1.000000</td>\n",
       "      <td>1.000000</td>\n",
       "      <td>1.000000</td>\n",
       "    </tr>\n",
       "  </tbody>\n",
       "</table>\n",
       "</div>"
      ],
      "text/plain": [
       "          Murder    Assault   UrbanPop       Rape\n",
       "count  50.000000  50.000000  50.000000  50.000000\n",
       "mean    0.420964   0.430685   0.568475   0.360000\n",
       "std     0.262380   0.285403   0.245335   0.242025\n",
       "min     0.000000   0.000000   0.000000   0.000000\n",
       "25%     0.197289   0.219178   0.381356   0.200904\n",
       "50%     0.388554   0.390411   0.576271   0.330749\n",
       "75%     0.629518   0.698630   0.775424   0.487726\n",
       "max     1.000000   1.000000   1.000000   1.000000"
      ]
     },
     "execution_count": 19,
     "metadata": {},
     "output_type": "execute_result"
    }
   ],
   "source": [
    "df_norm = norm_func(crime.iloc[:,1:])\n",
    "df_norm.describe()"
   ]
  },
  {
   "cell_type": "code",
   "execution_count": 20,
   "id": "cbfa873c",
   "metadata": {},
   "outputs": [],
   "source": [
    "from scipy.cluster.hierarchy import linkage \n",
    "import scipy.cluster.hierarchy as sch"
   ]
  },
  {
   "cell_type": "code",
   "execution_count": 21,
   "id": "f5213940",
   "metadata": {},
   "outputs": [],
   "source": [
    "z = linkage(df_norm, method=\"complete\",metric=\"euclidean\")"
   ]
  },
  {
   "cell_type": "code",
   "execution_count": 22,
   "id": "e3a219f9",
   "metadata": {},
   "outputs": [
    {
     "data": {
      "image/png": "[encoded data removed]",
      "text/plain": [
       "<Figure size 1080x360 with 1 Axes>"
      ]
     },
     "metadata": {
      "needs_background": "light"
     },
     "output_type": "display_data"
    }
   ],
   "source": [
    "plt.figure(figsize=(15, 5))\n",
    "plt.title('Hierarchical Clustering Dendrogram')\n",
    "plt.xlabel('Features')\n",
    "plt.ylabel('Crime')\n",
    "sch.dendrogram(z,\n",
    "    leaf_rotation=0.,  # rotates the x axis labels\n",
    "    leaf_font_size=8.,  # font size for the x axis labels\n",
    ")\n",
    "plt.show()"
   ]
  },
  {
   "cell_type": "code",
   "execution_count": 23,
   "id": "9d5f7da6",
   "metadata": {},
   "outputs": [
    {
     "data": {
      "text/html": [
       "<div>\n",
       "<style scoped>\n",
       "    .dataframe tbody tr th:only-of-type {\n",
       "        vertical-align: middle;\n",
       "    }\n",
       "\n",
       "    .dataframe tbody tr th {\n",
       "        vertical-align: top;\n",
       "    }\n",
       "\n",
       "    .dataframe thead th {\n",
       "        text-align: right;\n",
       "    }\n",
       "</style>\n",
       "<table border=\"1\" class=\"dataframe\">\n",
       "  <thead>\n",
       "    <tr style=\"text-align: right;\">\n",
       "      <th></th>\n",
       "      <th>Murder</th>\n",
       "      <th>Assault</th>\n",
       "      <th>UrbanPop</th>\n",
       "      <th>Rape</th>\n",
       "    </tr>\n",
       "  </thead>\n",
       "  <tbody>\n",
       "    <tr>\n",
       "      <th>Murder</th>\n",
       "      <td>1.000000</td>\n",
       "      <td>0.801873</td>\n",
       "      <td>0.069573</td>\n",
       "      <td>0.563579</td>\n",
       "    </tr>\n",
       "    <tr>\n",
       "      <th>Assault</th>\n",
       "      <td>0.801873</td>\n",
       "      <td>1.000000</td>\n",
       "      <td>0.258872</td>\n",
       "      <td>0.665241</td>\n",
       "    </tr>\n",
       "    <tr>\n",
       "      <th>UrbanPop</th>\n",
       "      <td>0.069573</td>\n",
       "      <td>0.258872</td>\n",
       "      <td>1.000000</td>\n",
       "      <td>0.411341</td>\n",
       "    </tr>\n",
       "    <tr>\n",
       "      <th>Rape</th>\n",
       "      <td>0.563579</td>\n",
       "      <td>0.665241</td>\n",
       "      <td>0.411341</td>\n",
       "      <td>1.000000</td>\n",
       "    </tr>\n",
       "  </tbody>\n",
       "</table>\n",
       "</div>"
      ],
      "text/plain": [
       "            Murder   Assault  UrbanPop      Rape\n",
       "Murder    1.000000  0.801873  0.069573  0.563579\n",
       "Assault   0.801873  1.000000  0.258872  0.665241\n",
       "UrbanPop  0.069573  0.258872  1.000000  0.411341\n",
       "Rape      0.563579  0.665241  0.411341  1.000000"
      ]
     },
     "execution_count": 23,
     "metadata": {},
     "output_type": "execute_result"
    }
   ],
   "source": [
    "crime.corr()"
   ]
  },
  {
   "cell_type": "code",
   "execution_count": 31,
   "id": "8e145ca8",
   "metadata": {},
   "outputs": [],
   "source": [
    "k = list(range(2,15))"
   ]
  },
  {
   "cell_type": "code",
   "execution_count": 25,
   "id": "f4c2763f",
   "metadata": {},
   "outputs": [],
   "source": [
    "from sklearn.cluster import\tKMeans\n",
    "from scipy.spatial.distance import cdist \n",
    "import numpy as np"
   ]
  },
  {
   "cell_type": "code",
   "execution_count": 32,
   "id": "3637ba5e",
   "metadata": {},
   "outputs": [],
   "source": [
    "kmeans = KMeans(n_clusters = i)"
   ]
  },
  {
   "cell_type": "code",
   "execution_count": 33,
   "id": "94c0f7d5",
   "metadata": {},
   "outputs": [
    {
     "data": {
      "text/plain": [
       "KMeans(n_clusters=2)"
      ]
     },
     "execution_count": 33,
     "metadata": {},
     "output_type": "execute_result"
    }
   ],
   "source": [
    "kmeans.fit(df_norm)"
   ]
  },
  {
   "cell_type": "code",
   "execution_count": 41,
   "id": "e298183a",
   "metadata": {},
   "outputs": [],
   "source": [
    "TWSS = []"
   ]
  },
  {
   "cell_type": "code",
   "execution_count": 42,
   "id": "ab765dbd",
   "metadata": {},
   "outputs": [],
   "source": [
    "WSS = []"
   ]
  }
 ],
 "metadata": {
  "kernelspec": {
   "display_name": "Python 3",
   "language": "python",
   "name": "python3"
  },
  "language_info": {
   "codemirror_mode": {
    "name": "ipython",
    "version": 3
   },
   "file_extension": ".py",
   "mimetype": "text/x-python",
   "name": "python",
   "nbconvert_exporter": "python",
   "pygments_lexer": "ipython3",
   "version": "3.8.8"
  }
 },
 "nbformat": 4,
 "nbformat_minor": 5
}
